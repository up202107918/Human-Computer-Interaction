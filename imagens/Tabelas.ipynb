{
 "cells": [
  {
   "cell_type": "markdown",
   "id": "e38766ed",
   "metadata": {},
   "source": [
    "# Tabelas de avaliação dos sketches"
   ]
  },
  {
   "cell_type": "markdown",
   "id": "709943d1",
   "metadata": {},
   "source": [
    "## Cameras Panel: Funcionalidade\n",
    "\n",
    "| Nome:   |   Sketch 1 |   Sketch 2 |   Sketch 3 |   Sketch 4 |   Sketch 5 |   Sketch 6 |   Sketch 7 |   Sketch 8 |   Sketch 9 |\n",
    "|:--------|-----------:|-----------:|-----------:|-----------:|-----------:|-----------:|-----------:|-----------:|-----------:|\n",
    "| Lena    |          2 |          4 |          2 |          4 |          4 |          4 |          4 |          4 |          4 |\n",
    "| Tomás   |          3 |          3 |          3 |          4 |          4 |          4 |          4 |          3 |          3 |\n",
    "| Rui     |          3 |          4 |          2 |          3 |          3 |          4 |          4 |          4 |          3 |\n",
    "| Sérgio  |          2 |          3 |          2 |          3 |          3 |          2 |          3 |          3 |          3 |\n",
    "| Total   |         10 |         14 |          9 |         14 |         14 |         14 |         15 |         14 |         13 |"
   ]
  },
  {
   "cell_type": "markdown",
   "id": "9a7900a2",
   "metadata": {},
   "source": [
    "## Cameras Panel: Intuitividade / Clareza\n",
    "\n",
    "| Nome:   |   Sketch 1 |   Sketch 2 |   Sketch 3 |   Sketch 4 |   Sketch 5 |   Sketch 6 |   Sketch 7 |   Sketch 8 |   Sketch 9 |\n",
    "|:--------|-----------:|-----------:|-----------:|-----------:|-----------:|-----------:|-----------:|-----------:|-----------:|\n",
    "| Lena    |          3 |          4 |          2 |          4 |          3 |          3 |          4 |          4 |          4 |\n",
    "| Tomás   |          2 |          3 |          2 |          4 |          3 |          3 |          4 |          3 |          3 |\n",
    "| Rui     |          4 |          4 |          2 |          2 |          3 |          3 |          4 |          4 |          3 |\n",
    "| Sérgio  |          2 |          3 |          2 |          4 |          3 |          2 |          2 |          3 |          3 |\n",
    "| Total   |         11 |         14 |          8 |         14 |         12 |         11 |         14 |         14 |         13 |"
   ]
  },
  {
   "cell_type": "markdown",
   "id": "a4982203",
   "metadata": {},
   "source": [
    "## Cameras Panel: Organização\n",
    "\n",
    "| Nome:   |   Sketch 1 |   Sketch 2 |   Sketch 3 |   Sketch 4 |   Sketch 5 |   Sketch 6 |   Sketch 7 |   Sketch 8 |   Sketch 9 |\n",
    "|:--------|-----------:|-----------:|-----------:|-----------:|-----------:|-----------:|-----------:|-----------:|-----------:|\n",
    "| Lena    |          3 |          4 |          3 |          3 |          4 |          4 |          4 |          4 |          4 |\n",
    "| Tomás   |          2 |          3 |          2 |          4 |          3 |          3 |          4 |          3 |          3 |\n",
    "| Rui     |          4 |          4 |          2 |          2 |          3 |          4 |          4 |          4 |          3 |\n",
    "| Sérgio  |          2 |          4 |          2 |          4 |          3 |          3 |          4 |          4 |          3 |\n",
    "| Total   |         11 |         15 |          9 |         13 |         13 |         14 |         16 |         15 |         13 |"
   ]
  },
  {
   "cell_type": "markdown",
   "id": "14295573",
   "metadata": {},
   "source": [
    "## Cameras Panel: Design Atrativo\n",
    "\n",
    "| Nome:   |   Sketch 1 |   Sketch 2 |   Sketch 3 |   Sketch 4 |   Sketch 5 |   Sketch 6 |   Sketch 7 |   Sketch 8 |   Sketch 9 |\n",
    "|:--------|-----------:|-----------:|-----------:|-----------:|-----------:|-----------:|-----------:|-----------:|-----------:|\n",
    "| Lena    |          2 |          4 |          1 |          3 |          4 |          3 |          3 |          3 |          4 |\n",
    "| Tomás   |          2 |          3 |          1 |          3 |          4 |          3 |          4 |          3 |          3 |\n",
    "| Rui     |          4 |          4 |          1 |          2 |          4 |          3 |          3 |          4 |          3 |\n",
    "| Sérgio  |          2 |          3 |          1 |          4 |          3 |          2 |          3 |          3 |          3 |\n",
    "| Total   |         10 |         14 |          4 |         12 |         15 |         11 |         13 |         13 |         13 |"
   ]
  },
  {
   "cell_type": "markdown",
   "id": "99ea1eca",
   "metadata": {},
   "source": [
    "## Log Panel: Funcionalidade\n",
    "\n",
    "| Nome:   |   Sketch 1 |   Sketch 2 |   Sketch 3 |   Sketch 4 |   Sketch 5 |\n",
    "|:--------|-----------:|-----------:|-----------:|-----------:|-----------:|\n",
    "| Lena    |          4 |          4 |          4 |          4 |          4 |\n",
    "| Tomás   |          4 |          3 |          3 |          3 |          3 |\n",
    "| Rui     |          4 |          4 |          3 |          4 |          3 |\n",
    "| Sérgio  |          2 |          3 |          3 |          3 |          3 |\n",
    "| Total   |         14 |         14 |         13 |         14 |         13 |"
   ]
  },
  {
   "cell_type": "markdown",
   "id": "23ed9cda",
   "metadata": {},
   "source": [
    "## Log Panel: Intuitividade / Clareza\n",
    "\n",
    "| Nome:   |   Sketch 1 |   Sketch 2 |   Sketch 3 |   Sketch 4 |   Sketch 5 |\n",
    "|:--------|-----------:|-----------:|-----------:|-----------:|-----------:|\n",
    "| Lena    |          4 |          4 |          4 |          4 |          4 |\n",
    "| Tomás   |          3 |          3 |          3 |          3 |          2 |\n",
    "| Rui     |          3 |          4 |          3 |          4 |          4 |\n",
    "| Sérgio  |          2 |          3 |          3 |          3 |          2 |\n",
    "| Total   |         12 |         14 |         13 |         14 |         12 |"
   ]
  },
  {
   "cell_type": "markdown",
   "id": "b0e8cb44",
   "metadata": {},
   "source": [
    "## Log Panel: Organização\n",
    "\n",
    "| Nome:   |   Sketch 1 |   Sketch 2 |   Sketch 3 |   Sketch 4 |   Sketch 5 |\n",
    "|:--------|-----------:|-----------:|-----------:|-----------:|-----------:|\n",
    "| Lena    |          4 |          4 |          3 |          3 |          4 |\n",
    "| Tomás   |          3 |          4 |          4 |          3 |          3 |\n",
    "| Rui     |          4 |          4 |          4 |          3 |          3 |\n",
    "| Sérgio  |          2 |          3 |          3 |          3 |          3 |\n",
    "| Total   |         13 |         15 |         14 |         12 |         13 |"
   ]
  },
  {
   "cell_type": "markdown",
   "id": "0ad3781b",
   "metadata": {},
   "source": [
    "## Log Panel: Design Atrativo\n",
    "\n",
    "| Nome:   |   Sketch 1 |   Sketch 2 |   Sketch 3 |   Sketch 4 |   Sketch 5 |\n",
    "|:--------|-----------:|-----------:|-----------:|-----------:|-----------:|\n",
    "| Lena    |          4 |          4 |          3 |          3 |          4 |\n",
    "| Tomás   |          2 |          4 |          4 |          3 |          3 |\n",
    "| Rui     |          3 |          4 |          3 |          3 |          3 |\n",
    "| Sérgio  |          2 |          4 |          4 |          3 |          3 |\n",
    "| Total   |         11 |         16 |         14 |         12 |         13 |"
   ]
  },
  {
   "cell_type": "markdown",
   "id": "c1de7e05",
   "metadata": {},
   "source": [
    "## Resources Panel: Funcionalidade\n",
    "\n",
    "| Nome:   |   Sketch 1 |   Sketch 2 |   Sketch 3 |   Sketch 4 |   Sketch 5 |   Sketch 6 |   Sketch 7 |   Sketch 8 |\n",
    "|:--------|-----------:|-----------:|-----------:|-----------:|-----------:|-----------:|-----------:|-----------:|\n",
    "| Lena    |          4 |          4 |          4 |          4 |          4 |          4 |          4 |          4 |\n",
    "| Tomás   |          3 |          4 |          3 |          2 |          3 |          4 |          4 |          3 |\n",
    "| Rui     |          3 |          3 |          3 |          4 |          4 |          4 |          4 |          3 |\n",
    "| Sérgio  |          2 |          3 |          3 |          3 |          3 |          3 |          3 |          4 |\n",
    "| Total   |         12 |         14 |         13 |         13 |         14 |         15 |         15 |         14 |"
   ]
  },
  {
   "cell_type": "markdown",
   "id": "448c6911",
   "metadata": {},
   "source": [
    "## Resources Panel: Intuitividade / Clareza\n",
    "\n",
    "| Nome:   |   Sketch 1 |   Sketch 2 |   Sketch 3 |   Sketch 4 |   Sketch 5 |   Sketch 6 |   Sketch 7 |   Sketch 8 |\n",
    "|:--------|-----------:|-----------:|-----------:|-----------:|-----------:|-----------:|-----------:|-----------:|\n",
    "| Lena    |          4 |          4 |          4 |          4 |          4 |          4 |          4 |          4 |\n",
    "| Tomás   |          3 |          4 |          2 |          3 |          3 |          4 |          4 |          2 |\n",
    "| Rui     |          3 |          4 |          2 |          3 |          2 |          4 |          4 |          4 |\n",
    "| Sérgio  |          2 |          3 |          3 |          3 |          2 |          3 |          3 |          4 |\n",
    "| Total   |         12 |         15 |         11 |         13 |         11 |         15 |         15 |         14 |"
   ]
  },
  {
   "cell_type": "markdown",
   "id": "90593655",
   "metadata": {},
   "source": [
    "## Resources Panel: Organização\n",
    "\n",
    "| Nome:   |   Sketch 1 |   Sketch 2 |   Sketch 3 |   Sketch 4 |   Sketch 5 |   Sketch 6 |   Sketch 7 |   Sketch 8 |\n",
    "|:--------|-----------:|-----------:|-----------:|-----------:|-----------:|-----------:|-----------:|-----------:|\n",
    "| Lena    |          4 |          4 |          4 |          4 |          4 |          4 |          4 |          4 |\n",
    "| Tomás   |          3 |          4 |          3 |          3 |          4 |          4 |          4 |          3 |\n",
    "| Rui     |          4 |          4 |          4 |          2 |          4 |          4 |          4 |          3 |\n",
    "| Sérgio  |          2 |          3 |          3 |          3 |          3 |          3 |          4 |          3 |\n",
    "| Total   |         13 |         15 |         14 |         12 |         15 |         15 |         16 |         13 |"
   ]
  },
  {
   "cell_type": "markdown",
   "id": "ab44cd1f",
   "metadata": {},
   "source": [
    "## Resources Panel: Design Atrativo\n",
    "\n",
    "| Nome:   |   Sketch 1 |   Sketch 2 |   Sketch 3 |   Sketch 4 |   Sketch 5 |   Sketch 6 |   Sketch 7 |   Sketch 8 |\n",
    "|:--------|-----------:|-----------:|-----------:|-----------:|-----------:|-----------:|-----------:|-----------:|\n",
    "| Lena    |          4 |          4 |          3 |          4 |          3 |          4 |          4 |          3 |\n",
    "| Tomás   |          3 |          4 |          2 |          2 |          3 |          4 |          4 |          2 |\n",
    "| Rui     |          3 |          4 |          2 |          2 |          3 |          4 |          4 |          2 |\n",
    "| Sérgio  |          2 |          3 |          3 |          2 |          3 |          3 |          3 |          3 |\n",
    "| Total   |         12 |         15 |         10 |         10 |         12 |         15 |         15 |         10 |"
   ]
  }
 ],
 "metadata": {
  "language_info": {
   "name": "python"
  }
 },
 "nbformat": 4,
 "nbformat_minor": 5
}
