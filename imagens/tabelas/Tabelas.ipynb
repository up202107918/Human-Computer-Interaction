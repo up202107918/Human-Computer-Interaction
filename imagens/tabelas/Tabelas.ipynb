{
 "cells": [
  {
   "cell_type": "markdown",
   "id": "e38766ed",
   "metadata": {
    "vscode": {
     "languageId": "bat"
    }
   },
   "source": [
    "# Tabelas de avaliação dos sketches"
   ]
  },
  {
   "cell_type": "markdown",
   "id": "5f2c6ce4",
   "metadata": {},
   "source": [
    "---"
   ]
  },
  {
   "cell_type": "markdown",
   "id": "709943d1",
   "metadata": {},
   "source": [
    "## Cameras Panel: Functionality\n",
    "\n",
    "| Name:   |   Sketch 1 |   Sketch 2 |   Sketch 3 |   Sketch 4 |   Sketch 5 |   Sketch 6 |   Sketch 7 |   Sketch 8 |   Sketch 9 |\n",
    "|:--------|-----------:|-----------:|-----------:|-----------:|-----------:|-----------:|-----------:|-----------:|-----------:|\n",
    "| Lena    |          2 |          4 |          2 |          4 |          4 |          4 |          4 |          4 |          4 |\n",
    "| Tomás   |          3 |          3 |          3 |          4 |          4 |          4 |          4 |          3 |          3 |\n",
    "| Rui     |          3 |          4 |          2 |          3 |          3 |          4 |          4 |          4 |          3 |\n",
    "| Sérgio  |          2 |          3 |          2 |          3 |          3 |          2 |          3 |          3 |          3 |\n",
    "| Total   |         10 |         14 |          9 |         14 |         14 |         14 |         15 |         14 |         13 |"
   ]
  },
  {
   "cell_type": "markdown",
   "id": "9a7900a2",
   "metadata": {},
   "source": [
    "## Cameras Panel: Intuitiveness\n",
    "\n",
    "| Name:   |   Sketch 1 |   Sketch 2 |   Sketch 3 |   Sketch 4 |   Sketch 5 |   Sketch 6 |   Sketch 7 |   Sketch 8 |   Sketch 9 |\n",
    "|:--------|-----------:|-----------:|-----------:|-----------:|-----------:|-----------:|-----------:|-----------:|-----------:|\n",
    "| Lena    |          3 |          4 |          2 |          4 |          3 |          3 |          4 |          4 |          4 |\n",
    "| Tomás   |          2 |          3 |          2 |          4 |          3 |          3 |          4 |          3 |          3 |\n",
    "| Rui     |          4 |          4 |          2 |          2 |          3 |          3 |          4 |          4 |          3 |\n",
    "| Sérgio  |          2 |          3 |          2 |          4 |          3 |          2 |          2 |          3 |          3 |\n",
    "| Total   |         11 |         14 |          8 |         14 |         12 |         11 |         14 |         14 |         13 |"
   ]
  },
  {
   "cell_type": "markdown",
   "id": "a4982203",
   "metadata": {},
   "source": [
    "## Cameras Panel: Organization\n",
    "\n",
    "| Name:   |   Sketch 1 |   Sketch 2 |   Sketch 3 |   Sketch 4 |   Sketch 5 |   Sketch 6 |   Sketch 7 |   Sketch 8 |   Sketch 9 |\n",
    "|:--------|-----------:|-----------:|-----------:|-----------:|-----------:|-----------:|-----------:|-----------:|-----------:|\n",
    "| Lena    |          3 |          4 |          3 |          3 |          4 |          4 |          4 |          4 |          4 |\n",
    "| Tomás   |          2 |          3 |          2 |          4 |          3 |          3 |          4 |          3 |          3 |\n",
    "| Rui     |          4 |          4 |          2 |          2 |          3 |          4 |          4 |          4 |          3 |\n",
    "| Sérgio  |          2 |          4 |          2 |          4 |          3 |          3 |          4 |          4 |          3 |\n",
    "| Total   |         11 |         15 |          9 |         13 |         13 |         14 |         16 |         15 |         13 |"
   ]
  },
  {
   "cell_type": "markdown",
   "id": "14295573",
   "metadata": {},
   "source": [
    "## Cameras Panel: Attractiveness\n",
    "\n",
    "| Name:   |   Sketch 1 |   Sketch 2 |   Sketch 3 |   Sketch 4 |   Sketch 5 |   Sketch 6 |   Sketch 7 |   Sketch 8 |   Sketch 9 |\n",
    "|:--------|-----------:|-----------:|-----------:|-----------:|-----------:|-----------:|-----------:|-----------:|-----------:|\n",
    "| Lena    |          2 |          4 |          1 |          3 |          4 |          3 |          3 |          3 |          4 |\n",
    "| Tomás   |          2 |          3 |          1 |          3 |          4 |          3 |          4 |          3 |          3 |\n",
    "| Rui     |          4 |          4 |          1 |          2 |          4 |          3 |          3 |          4 |          3 |\n",
    "| Sérgio  |          2 |          3 |          1 |          4 |          3 |          2 |          3 |          3 |          3 |\n",
    "| Total   |         10 |         14 |          4 |         12 |         15 |         11 |         13 |         13 |         13 |"
   ]
  },
  {
   "cell_type": "markdown",
   "id": "0c3c2356",
   "metadata": {},
   "source": [
    "## Cameras Panel: Final scores\n",
    "\n",
    "| Name:   |   Sketch 1 |   Sketch 2 |   Sketch 3 |   Sketch 4 |   Sketch 5 |   Sketch 6 |   Sketch 7 |   Sketch 8 |   Sketch 9 |\n",
    "|:--------|-----------:|-----------:|-----------:|-----------:|-----------:|-----------:|-----------:|-----------:|-----------:|\n",
    "| Functionality   |         10 |         14 |          9 |         14 |         14 |         14 |         15 |         14 |         13 |\n",
    "| Intuitiveness   |         11 |         14 |          8 |         14 |         12 |         11 |         14 |         14 |         13 |\n",
    "| Organization   |         11 |         15 |          9 |         13 |         13 |         14 |         16 |         15 |         13 |\n",
    "| Attractiveness   |         10 |         14 |          4 |         12 |         15 |         11 |         13 |         13 |         13 |\n",
    "| Total   |         42 |         57 |          30 |         53 |         54 |         50 |         58 |         56 |         52 |\n",
    "\n",
    "\n",
    "\n",
    "### Top 3: 7, 2, 8"
   ]
  },
  {
   "cell_type": "markdown",
   "id": "d784436b",
   "metadata": {},
   "source": [
    "---"
   ]
  },
  {
   "cell_type": "markdown",
   "id": "99ea1eca",
   "metadata": {},
   "source": [
    "## Log Panel: Functionality\n",
    "\n",
    "| Name:   |   Sketch 1 |   Sketch 2 |   Sketch 3 |   Sketch 4 |   Sketch 5 |\n",
    "|:--------|-----------:|-----------:|-----------:|-----------:|-----------:|\n",
    "| Lena    |          4 |          4 |          4 |          4 |          4 |\n",
    "| Tomás   |          4 |          3 |          3 |          3 |          3 |\n",
    "| Rui     |          4 |          4 |          3 |          4 |          3 |\n",
    "| Sérgio  |          2 |          3 |          3 |          3 |          3 |\n",
    "| Total   |         14 |         14 |         13 |         14 |         13 |"
   ]
  },
  {
   "cell_type": "markdown",
   "id": "23ed9cda",
   "metadata": {},
   "source": [
    "## Log Panel: Intuitiveness\n",
    "\n",
    "| Name:   |   Sketch 1 |   Sketch 2 |   Sketch 3 |   Sketch 4 |   Sketch 5 |\n",
    "|:--------|-----------:|-----------:|-----------:|-----------:|-----------:|\n",
    "| Lena    |          4 |          4 |          4 |          4 |          4 |\n",
    "| Tomás   |          3 |          3 |          3 |          3 |          2 |\n",
    "| Rui     |          3 |          4 |          3 |          4 |          4 |\n",
    "| Sérgio  |          2 |          3 |          3 |          3 |          2 |\n",
    "| Total   |         12 |         14 |         13 |         14 |         12 |"
   ]
  },
  {
   "cell_type": "markdown",
   "id": "b0e8cb44",
   "metadata": {},
   "source": [
    "## Log Panel: Organization\n",
    "\n",
    "| Name:   |   Sketch 1 |   Sketch 2 |   Sketch 3 |   Sketch 4 |   Sketch 5 |\n",
    "|:--------|-----------:|-----------:|-----------:|-----------:|-----------:|\n",
    "| Lena    |          4 |          4 |          3 |          3 |          4 |\n",
    "| Tomás   |          3 |          4 |          4 |          3 |          3 |\n",
    "| Rui     |          4 |          4 |          4 |          3 |          3 |\n",
    "| Sérgio  |          2 |          3 |          3 |          3 |          3 |\n",
    "| Total   |         13 |         15 |         14 |         12 |         13 |"
   ]
  },
  {
   "cell_type": "markdown",
   "id": "0ad3781b",
   "metadata": {},
   "source": [
    "## Log Panel: Attractiveness\n",
    "\n",
    "| Name:   |   Sketch 1 |   Sketch 2 |   Sketch 3 |   Sketch 4 |   Sketch 5 |\n",
    "|:--------|-----------:|-----------:|-----------:|-----------:|-----------:|\n",
    "| Lena    |          4 |          4 |          3 |          3 |          4 |\n",
    "| Tomás   |          2 |          4 |          4 |          3 |          3 |\n",
    "| Rui     |          3 |          4 |          3 |          3 |          3 |\n",
    "| Sérgio  |          2 |          4 |          4 |          3 |          3 |\n",
    "| Total   |         11 |         16 |         14 |         12 |         13 |"
   ]
  },
  {
   "cell_type": "markdown",
   "id": "49d9fd57",
   "metadata": {},
   "source": [
    "## Log Panel: Final scores\n",
    "\n",
    "| Name:   |   Sketch 1 |   Sketch 2 |   Sketch 3 |   Sketch 4 |   Sketch 5 |\n",
    "|:--------|-----------:|-----------:|-----------:|-----------:|-----------:|\n",
    "| Functionality   |         14 |         14 |         13 |         14 |         13 |\n",
    "| Intuitiveness   |         12 |         14 |         13 |         14 |         12 |\n",
    "| Organization   |         13 |         15 |         14 |         12 |         13 |\n",
    "| Attractiveness   |         11 |         16 |         14 |         12 |         13 |\n",
    "| Total   |         50 |         59 |         54 |         52 |         51 |\n",
    "\n",
    "### Top 3: 2, 3, 4\n"
   ]
  },
  {
   "cell_type": "markdown",
   "id": "092515f3",
   "metadata": {},
   "source": [
    "---"
   ]
  },
  {
   "cell_type": "markdown",
   "id": "c1de7e05",
   "metadata": {},
   "source": [
    "## Resources Panel: Functionality\n",
    "\n",
    "| Name:   |   Sketch 1 |   Sketch 2 |   Sketch 3 |   Sketch 4 |   Sketch 5 |   Sketch 6 |   Sketch 7 |   Sketch 8 |\n",
    "|:--------|-----------:|-----------:|-----------:|-----------:|-----------:|-----------:|-----------:|-----------:|\n",
    "| Lena    |          4 |          4 |          4 |          4 |          4 |          4 |          4 |          4 |\n",
    "| Tomás   |          3 |          4 |          3 |          2 |          3 |          4 |          4 |          3 |\n",
    "| Rui     |          3 |          3 |          3 |          4 |          4 |          4 |          4 |          3 |\n",
    "| Sérgio  |          2 |          3 |          3 |          3 |          3 |          3 |          3 |          4 |\n",
    "| Total   |         12 |         14 |         13 |         13 |         14 |         15 |         15 |         14 |"
   ]
  },
  {
   "cell_type": "markdown",
   "id": "448c6911",
   "metadata": {},
   "source": [
    "## Resources Panel: Intuitiveness\n",
    "\n",
    "| Name:   |   Sketch 1 |   Sketch 2 |   Sketch 3 |   Sketch 4 |   Sketch 5 |   Sketch 6 |   Sketch 7 |   Sketch 8 |\n",
    "|:--------|-----------:|-----------:|-----------:|-----------:|-----------:|-----------:|-----------:|-----------:|\n",
    "| Lena    |          4 |          4 |          4 |          4 |          4 |          4 |          4 |          4 |\n",
    "| Tomás   |          3 |          4 |          2 |          3 |          3 |          4 |          4 |          2 |\n",
    "| Rui     |          3 |          4 |          2 |          3 |          2 |          4 |          4 |          4 |\n",
    "| Sérgio  |          2 |          3 |          3 |          3 |          2 |          3 |          3 |          4 |\n",
    "| Total   |         12 |         15 |         11 |         13 |         11 |         15 |         15 |         14 |"
   ]
  },
  {
   "cell_type": "markdown",
   "id": "90593655",
   "metadata": {},
   "source": [
    "## Resources Panel: Organization\n",
    "\n",
    "| Name:   |   Sketch 1 |   Sketch 2 |   Sketch 3 |   Sketch 4 |   Sketch 5 |   Sketch 6 |   Sketch 7 |   Sketch 8 |\n",
    "|:--------|-----------:|-----------:|-----------:|-----------:|-----------:|-----------:|-----------:|-----------:|\n",
    "| Lena    |          4 |          4 |          4 |          4 |          4 |          4 |          4 |          4 |\n",
    "| Tomás   |          3 |          4 |          3 |          3 |          4 |          4 |          4 |          3 |\n",
    "| Rui     |          4 |          4 |          4 |          2 |          4 |          4 |          4 |          3 |\n",
    "| Sérgio  |          2 |          3 |          3 |          3 |          3 |          3 |          4 |          3 |\n",
    "| Total   |         13 |         15 |         14 |         12 |         15 |         15 |         16 |         13 |"
   ]
  },
  {
   "cell_type": "markdown",
   "id": "ab44cd1f",
   "metadata": {},
   "source": [
    "## Resources Panel: Attractiveness\n",
    "\n",
    "| Name:   |   Sketch 1 |   Sketch 2 |   Sketch 3 |   Sketch 4 |   Sketch 5 |   Sketch 6 |   Sketch 7 |   Sketch 8 |\n",
    "|:--------|-----------:|-----------:|-----------:|-----------:|-----------:|-----------:|-----------:|-----------:|\n",
    "| Lena    |          4 |          4 |          3 |          4 |          3 |          4 |          4 |          3 |\n",
    "| Tomás   |          3 |          4 |          2 |          2 |          3 |          4 |          4 |          2 |\n",
    "| Rui     |          3 |          4 |          2 |          2 |          3 |          4 |          4 |          2 |\n",
    "| Sérgio  |          2 |          3 |          3 |          2 |          3 |          3 |          3 |          3 |\n",
    "| Total   |         12 |         15 |         10 |         10 |         12 |         15 |         15 |         10 |"
   ]
  },
  {
   "cell_type": "markdown",
   "id": "d2db0439",
   "metadata": {},
   "source": [
    "## Resources Panel: Final scores\n",
    "\n",
    "| Name:   |   Sketch 1 |   Sketch 2 |   Sketch 3 |   Sketch 4 |   Sketch 5 |   Sketch 6 |   Sketch 7 |   Sketch 8 |\n",
    "|:--------|-----------:|-----------:|-----------:|-----------:|-----------:|-----------:|-----------:|-----------:|\n",
    "| Functionality   |         12 |         14 |         13 |         13 |         14 |         15 |         15 |         14 |\n",
    "| Intuitiveness   |         12 |         15 |         11 |         13 |         11 |         15 |         15 |         14 |\n",
    "| Organization   |         13 |         15 |         14 |         12 |         15 |         15 |         16 |         13 |\n",
    "| Attractiveness   |         12 |         15 |         10 |         10 |         12 |         15 |         15 |         10 |\n",
    "| Total   |         49 |         59 |         48 |         48 |         52 |         60 |         61 |         51 |\n",
    "\n",
    "### Top 3: 7, 6, 2"
   ]
  },
  {
   "cell_type": "markdown",
   "id": "55e30b33",
   "metadata": {},
   "source": [
    "---"
   ]
  },
  {
   "cell_type": "markdown",
   "id": "f1c6c752",
   "metadata": {},
   "source": [
    "## Situation Panel (single): Functionality\n",
    "\n",
    "| Name:   |   Sketch 1 |   Sketch 2 |   Sketch 3 |   Sketch 4 |   Sketch 5 |   Sketch 6 |   Sketch 7 |   Sketch 8 |   Sketch 9 |\n",
    "|:--------|-----------:|-----------:|-----------:|-----------:|-----------:|-----------:|-----------:|-----------:|-----------:|\n",
    "| Lena    |          2 |          3 |          3 |          3 |          3 |          4 |          3 |          3 |          3 |\n",
    "| Tomás   |          2 |          3 |          4 |          4 |          4 |          4 |          3 |          3 |          2 |\n",
    "| Rui     |          2 |          3 |          3 |          4 |          4 |          4 |          3 |          3 |          2 |\n",
    "| Sérgio  |          2 |          3 |          4 |          3 |          4 |          3 |          4 |          3 |          3 |\n",
    "| Total   |          8 |         12 |         14 |         14 |         15 |         15 |         13 |         12 |         10 |"
   ]
  },
  {
   "cell_type": "markdown",
   "id": "7ce31fc8",
   "metadata": {},
   "source": [
    "## Situation Panel (single): Intuitiveness\n",
    "\n",
    "| Name:   |   Sketch 1 |   Sketch 2 |   Sketch 3 |   Sketch 4 |   Sketch 5 |   Sketch 6 |   Sketch 7 |   Sketch 8 |   Sketch 9 |\n",
    "|:--------|-----------:|-----------:|-----------:|-----------:|-----------:|-----------:|-----------:|-----------:|-----------:|\n",
    "| Lena    |          2 |          2 |          4 |          3 |          4 |          4 |          3 |          3 |          2 |\n",
    "| Tomás   |          2 |          2 |          3 |          3 |          4 |          4 |          2 |          3 |          2 |\n",
    "| Rui     |          2 |          2 |          3 |          4 |          4 |          4 |          2 |          3 |          2 |\n",
    "| Sérgio  |          3 |          2 |          4 |          2 |          4 |          4 |          4 |          2 |          4 |\n",
    "| Total   |          9 |          8 |         14 |         12 |         16 |         16 |         11 |         11 |         10 |"
   ]
  },
  {
   "cell_type": "markdown",
   "id": "5dd7664e",
   "metadata": {},
   "source": [
    "## Situation Panel (single): Organization\n",
    "\n",
    "| Name:   |   Sketch 1 |   Sketch 2 |   Sketch 3 |   Sketch 4 |   Sketch 5 |   Sketch 6 |   Sketch 7 |   Sketch 8 |   Sketch 9 |\n",
    "|:--------|-----------:|-----------:|-----------:|-----------:|-----------:|-----------:|-----------:|-----------:|-----------:|\n",
    "| Lena    |          1 |          2 |          3 |          3 |          4 |          4 |          4 |          3 |          3 |\n",
    "| Tomás   |          1 |          2 |          4 |          3 |          4 |          4 |          3 |          3 |          2 |\n",
    "| Rui     |          1 |          2 |          2 |          3 |          4 |          4 |          3 |          3 |          3 |\n",
    "| Sérgio  |          2 |          2 |          4 |          3 |          4 |          4 |          4 |          2 |          3 |\n",
    "| Total   |          5 |          8 |         13 |         12 |         16 |         16 |         14 |         11 |         11 |"
   ]
  },
  {
   "cell_type": "markdown",
   "id": "4d225ec5",
   "metadata": {},
   "source": [
    "## Situation Panel (single): Attractiveness\n",
    "\n",
    "| Name:   |   Sketch 1 |   Sketch 2 |   Sketch 3 |   Sketch 4 |   Sketch 5 |   Sketch 6 |   Sketch 7 |   Sketch 8 |   Sketch 9 |\n",
    "|:--------|-----------:|-----------:|-----------:|-----------:|-----------:|-----------:|-----------:|-----------:|-----------:|\n",
    "| Lena    |          1 |          3 |          3 |          3 |          3 |          4 |          4 |          4 |          4 |\n",
    "| Tomás   |          1 |          2 |          2 |          3 |          4 |          4 |          3 |          3 |          2 |\n",
    "| Rui     |          1 |          2 |          2 |          2 |          3 |          4 |          4 |          4 |          3 |\n",
    "| Sérgio  |          1 |          3 |          3 |          3 |          2 |          3 |          3 |          4 |          2 |\n",
    "| Total   |          4 |         10 |         10 |         11 |         12 |         15 |         14 |         15 |         12 |"
   ]
  },
  {
   "cell_type": "markdown",
   "id": "3716c117",
   "metadata": {},
   "source": [
    "## Situation Panel (single): Final scores\n",
    "\n",
    "| Name:   |   Sketch 1 |   Sketch 2 |   Sketch 3 |   Sketch 4 |   Sketch 5 |   Sketch 6 |   Sketch 7 |   Sketch 8 |   Sketch 9 |\n",
    "|:--------|-----------:|-----------:|-----------:|-----------:|-----------:|-----------:|-----------:|-----------:|-----------:|\n",
    "| Functionality   |          8 |         12 |         14 |         14 |         15 |         15 |         13 |         12 |         10 |\n",
    "| Intuitiveness   |          9 |          8 |         14 |         12 |         16 |         16 |         11 |         11 |         10 |\n",
    "| Organization   |          5 |          8 |         13 |         12 |         16 |         16 |         14 |         11 |         11 |\n",
    "| Attractiveness   |          4 |         10 |         10 |         11 |         12 |         15 |         14 |         15 |         12 |\n",
    "| Total   |         26 |         38 |         51 |         49 |         59 |         62 |         52 |         49 |         43 |\n",
    "\n",
    "### Top 3: 6, 5, 7"
   ]
  }
 ],
 "metadata": {
  "language_info": {
   "name": "python"
  }
 },
 "nbformat": 4,
 "nbformat_minor": 5
}
